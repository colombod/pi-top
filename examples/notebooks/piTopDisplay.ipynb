{
 "cells": [
  {
   "cell_type": "markdown",
   "metadata": {},
   "source": [
    "# Hello we will be building things"
   ]
  },
  {
   "cell_type": "code",
   "execution_count": 1,
   "metadata": {},
   "outputs": [
    {
     "data": {
      "text/html": [
       "\r\n",
       "<div>\r\n",
       "    <div id='dotnet-interactive-this-cell-3867.6181354a956a44a186bdfb5f6b8bb371' style='display: none'>\r\n",
       "        The below script needs to be able to find the current output cell; this is an easy method to get it.\r\n",
       "    </div>\r\n",
       "    <script type='text/javascript'>\r\n",
       "// ensure `require` is available globally\r\n",
       "if (typeof require !== typeof Function || typeof require.config !== typeof Function) {\r\n",
       "    let require_script = document.createElement('script');\r\n",
       "    require_script.setAttribute('src', 'https://cdnjs.cloudflare.com/ajax/libs/require.js/2.3.6/require.min.js');\r\n",
       "    require_script.setAttribute('type', 'text/javascript');\r\n",
       "    require_script.onload = function () {\r\n",
       "        loadDotnetInteractiveApi();\r\n",
       "    };\r\n",
       "\r\n",
       "    document.getElementsByTagName('head')[0].appendChild(require_script);\r\n",
       "}\r\n",
       "else {\r\n",
       "    loadDotnetInteractiveApi();\r\n",
       "}\r\n",
       "\r\n",
       "async function probeAddresses(probingAddresses) {\r\n",
       "    function timeout(ms, promise) {\r\n",
       "        return new Promise(function (resolve, reject) {\r\n",
       "            setTimeout(function () {\r\n",
       "                reject(new Error('timeout'))\r\n",
       "            }, ms)\r\n",
       "            promise.then(resolve, reject)\r\n",
       "        })\r\n",
       "    }\r\n",
       "\r\n",
       "    if (Array.isArray(probingAddresses)) {\r\n",
       "        for (let i = 0; i < probingAddresses.length; i++) {\r\n",
       "\r\n",
       "            let rootUrl = probingAddresses[i];\r\n",
       "\r\n",
       "            if (!rootUrl.endsWith('/')) {\r\n",
       "                rootUrl = `${rootUrl}/`;\r\n",
       "            }\r\n",
       "\r\n",
       "            try {\r\n",
       "                let response = await timeout(1000, fetch(`${rootUrl}discovery`, {\r\n",
       "                    method: 'POST',\r\n",
       "                    cache: 'no-cache',\r\n",
       "                    mode: 'cors',\r\n",
       "                    timeout: 1000,\r\n",
       "                    headers: {\r\n",
       "                        'Content-Type': 'text/plain'\r\n",
       "                    },\r\n",
       "                    body: probingAddresses[i]\r\n",
       "                }));\r\n",
       "\r\n",
       "                if (response.status == 200) {\r\n",
       "                    return rootUrl;\r\n",
       "                }\r\n",
       "            }\r\n",
       "            catch (e) { }\r\n",
       "        }\r\n",
       "    }\r\n",
       "}\r\n",
       "\r\n",
       "function loadDotnetInteractiveApi() {\r\n",
       "    probeAddresses([\"http://192.168.1.246:1026/\", \"http://127.0.0.1:1026/\"])\r\n",
       "        .then((root) => {\r\n",
       "            // use probing to find host url and api resources\r\n",
       "            // load interactive helpers and language services\r\n",
       "            let dotnet_require = require.config({\r\n",
       "                context: '3867.6181354a956a44a186bdfb5f6b8bb371',\r\n",
       "                paths: {\r\n",
       "                    'dotnet-interactive': `${root}resources`\r\n",
       "                }\r\n",
       "            }) || require;\r\n",
       "            if (!window.dotnet_require) {\r\n",
       "                window.dotnet_require = dotnet_require;\r\n",
       "            }\r\n",
       "        \r\n",
       "            dotnet_require([\r\n",
       "                    'dotnet-interactive/dotnet-interactive'\r\n",
       "                ],\r\n",
       "                function (dotnet) {\r\n",
       "                    dotnet.init(window);\r\n",
       "                },\r\n",
       "                function (error) {\r\n",
       "                    console.log(error);\r\n",
       "                }\r\n",
       "            );\r\n",
       "        })\r\n",
       "        .catch(error => {console.log(error);});\r\n",
       "    }\r\n",
       "    </script>\r\n",
       "</div>"
      ]
     },
     "metadata": {},
     "output_type": "display_data"
    },
    {
     "data": {
      "text/html": [
       "<div><strong>Restore sources</strong><ul><li><span>/home/pi/localNuget</span></li></ul></div>"
      ]
     },
     "metadata": {},
     "output_type": "display_data"
    }
   ],
   "source": [
    "#i \"nuget:/home/pi/localNuget\""
   ]
  },
  {
   "cell_type": "code",
   "execution_count": 2,
   "metadata": {},
   "outputs": [
    {
     "data": {
      "text/plain": [
       "Installing package SixLabors.Fonts................"
      ]
     },
     "metadata": {},
     "output_type": "display_data"
    },
    {
     "data": {
      "text/plain": [
       "Installing package piTop................"
      ]
     },
     "metadata": {},
     "output_type": "display_data"
    },
    {
     "data": {
      "text/plain": [
       "Installing package piTop.FoundationKit................"
      ]
     },
     "metadata": {},
     "output_type": "display_data"
    },
    {
     "name": "stdout",
     "output_type": "stream",
     "text": [
      "Microsoft (R) Build Engine version 16.6.0+5ff7b0c9e for .NET Core\n",
      "Copyright (C) Microsoft Corporation. All rights reserved.\n",
      "\n",
      "  Determining projects to restore...\n",
      "/tmp/nuget/3867--c6ac865d-073d-4a51-80f6-5184f22fa250/Project.fsproj : error NU1103: Unable to find a stable package SixLabors.Fonts with version (>= 0.0.0)\n",
      "/tmp/nuget/3867--c6ac865d-073d-4a51-80f6-5184f22fa250/Project.fsproj : error NU1103:   - Found 28 version(s) in nuget.org [ Nearest version: 1.0.0-beta0013 ]\n",
      "/tmp/nuget/3867--c6ac865d-073d-4a51-80f6-5184f22fa250/Project.fsproj : error NU1103:   - Found 0 version(s) in local\n",
      "/tmp/nuget/3867--c6ac865d-073d-4a51-80f6-5184f22fa250/Project.fsproj : error NU1103:   - Found 0 version(s) in dotnet-corefxlab\n",
      "/tmp/nuget/3867--c6ac865d-073d-4a51-80f6-5184f22fa250/Project.fsproj : error NU1103:   - Found 0 version(s) in dotnet-try\n",
      "/tmp/nuget/3867--c6ac865d-073d-4a51-80f6-5184f22fa250/Project.fsproj : error NU1103:   - Found 0 version(s) in roslyn\n",
      "/tmp/nuget/3867--c6ac865d-073d-4a51-80f6-5184f22fa250/Project.fsproj : error NU1103:   - Found 0 version(s) in PSGallery\n",
      "  Failed to restore /tmp/nuget/3867--c6ac865d-073d-4a51-80f6-5184f22fa250/Project.fsproj (in 2.5 sec).\n"
     ]
    },
    {
     "ename": "Unhandled exception",
     "evalue": "Microsoft (R) Build Engine version 16.6.0+5ff7b0c9e for .NET Core\nCopyright (C) Microsoft Corporation. All rights reserved.\n\n  Determining projects to restore...\n/tmp/nuget/3867--c6ac865d-073d-4a51-80f6-5184f22fa250/Project.fsproj : error NU1103: Unable to find a stable package SixLabors.Fonts with version (>= 0.0.0)\n/tmp/nuget/3867--c6ac865d-073d-4a51-80f6-5184f22fa250/Project.fsproj : error NU1103:   - Found 28 version(s) in nuget.org [ Nearest version: 1.0.0-beta0013 ]\n/tmp/nuget/3867--c6ac865d-073d-4a51-80f6-5184f22fa250/Project.fsproj : error NU1103:   - Found 0 version(s) in local\n/tmp/nuget/3867--c6ac865d-073d-4a51-80f6-5184f22fa250/Project.fsproj : error NU1103:   - Found 0 version(s) in dotnet-corefxlab\n/tmp/nuget/3867--c6ac865d-073d-4a51-80f6-5184f22fa250/Project.fsproj : error NU1103:   - Found 0 version(s) in dotnet-try\n/tmp/nuget/3867--c6ac865d-073d-4a51-80f6-5184f22fa250/Project.fsproj : error NU1103:   - Found 0 version(s) in roslyn\n/tmp/nuget/3867--c6ac865d-073d-4a51-80f6-5184f22fa250/Project.fsproj : error NU1103:   - Found 0 version(s) in PSGallery\n  Failed to restore /tmp/nuget/3867--c6ac865d-073d-4a51-80f6-5184f22fa250/Project.fsproj (in 2.5 sec).",
     "output_type": "error",
     "traceback": [
      "Microsoft (R) Build Engine version 16.6.0+5ff7b0c9e for .NET Core\nCopyright (C) Microsoft Corporation. All rights reserved.\n\n  Determining projects to restore...\n/tmp/nuget/3867--c6ac865d-073d-4a51-80f6-5184f22fa250/Project.fsproj : error NU1103: Unable to find a stable package SixLabors.Fonts with version (>= 0.0.0)\n/tmp/nuget/3867--c6ac865d-073d-4a51-80f6-5184f22fa250/Project.fsproj : error NU1103:   - Found 28 version(s) in nuget.org [ Nearest version: 1.0.0-beta0013 ]\n/tmp/nuget/3867--c6ac865d-073d-4a51-80f6-5184f22fa250/Project.fsproj : error NU1103:   - Found 0 version(s) in local\n/tmp/nuget/3867--c6ac865d-073d-4a51-80f6-5184f22fa250/Project.fsproj : error NU1103:   - Found 0 version(s) in dotnet-corefxlab\n/tmp/nuget/3867--c6ac865d-073d-4a51-80f6-5184f22fa250/Project.fsproj : error NU1103:   - Found 0 version(s) in dotnet-try\n/tmp/nuget/3867--c6ac865d-073d-4a51-80f6-5184f22fa250/Project.fsproj : error NU1103:   - Found 0 version(s) in roslyn\n/tmp/nuget/3867--c6ac865d-073d-4a51-80f6-5184f22fa250/Project.fsproj : error NU1103:   - Found 0 version(s) in PSGallery\n  Failed to restore /tmp/nuget/3867--c6ac865d-073d-4a51-80f6-5184f22fa250/Project.fsproj (in 2.5 sec)."
     ]
    }
   ],
   "source": [
    "#r \"nuget:piTop\"\n",
    "#r \"nuget:piTop.FoundationKit\"\n",
    "#r \"nuget:SixLabors.Fonts\""
   ]
  },
  {
   "cell_type": "code",
   "execution_count": 3,
   "metadata": {},
   "outputs": [],
   "source": [
    "using PiTop;\n",
    "using PiTopMakerArchitecture.Foundation;\n",
    "using PiTopMakerArchitecture.Foundation.Components;\n",
    "using PiTopMakerArchitecture.Foundation.Sensors;"
   ]
  },
  {
   "cell_type": "code",
   "execution_count": 4,
   "metadata": {},
   "outputs": [],
   "source": [
    "var module = new PiTopModule();\n",
    "var plate = module.GetOrCreatePlate<FoundationPlate>();"
   ]
  },
  {
   "cell_type": "code",
   "execution_count": 5,
   "metadata": {},
   "outputs": [],
   "source": [
    "var builtinDisplay = module.Display;"
   ]
  },
  {
   "cell_type": "code",
   "execution_count": 8,
   "metadata": {},
   "outputs": [],
   "source": [
    "using SixLabors.ImageSharp;\n",
    "using SixLabors.ImageSharp.Drawing;\n",
    "using SixLabors.ImageSharp.Drawing.Processing;\n",
    "\n",
    "builtinDisplay.Draw(d =>\n",
    "            {\n",
    "                var square = new RectangularPolygon(builtinDisplay.Width / 4, builtinDisplay.Height / 4, builtinDisplay.Width/2, builtinDisplay.Height/2);\n",
    "     d.DrawText()\n",
    "                d.Clear(Color.Black);\n",
    "                d.Fill(Color.White, square);\n",
    "            });"
   ]
  },
  {
   "cell_type": "code",
   "execution_count": 10,
   "metadata": {},
   "outputs": [
    {
     "data": {
      "text/html": [
       "<img src=\"data:image/png;base64, iVBORw0KGgoAAAANSUhEUgAAAIAAAABACAYAAADS1n9/AAAACXBIWXMAAA7EAAAOxAGVKw4bAAAAxUlEQVR4nO3bsREAIAzEsHDH/ivDGCksLZDGZf7OzBuy7pAmgDgBxAkgTgBxAogTQJwA4gQQJ4A4AcQJIE4AcQKIE0DcegDvtd8Rzjmr99cDYJcA4gQQJ4A4AcQJIE4AcQKIE0CcAOIEECeAOAHECSBOAHECiBNAnADiBBAngDgBxAkgTgBxAogTQJwA4gQQJ4A4AcQJIE4AcesBbO/j69YDYJcA4gQQJ4A4AcQJIE4AcQKIE0CcAOIEECeAOAHECSBOAHEf3k4FA0azPnIAAAAASUVORK5CYII=\"></img>"
      ]
     },
     "metadata": {},
     "output_type": "display_data"
    }
   ],
   "source": [
    "// using PiTop.Abstractions;\n",
    "// using System.IO;\n",
    "\n",
    "// Formatter.ResetToDefault();\n",
    "// Formatter<Sh1106Display>.Register((d, w) => { \n",
    "//     using(MemoryStream s = new MemoryStream()){\n",
    "//         d.InternalBitmap.SaveAsPng(s);\n",
    "//         PocketView view = img[src:@\"data:image/png;base64, \"+System.Convert.ToBase64String(s.ToArray())];\n",
    "//         w.Write(view); \n",
    "//     }\n",
    "// }, \"text/html\");\n",
    "//Formatter.Register(typeof(Display), (a, w) => { PocketView view = b(\"Hello\"); w.Write(view); }, \"text/html\");\n",
    "\n",
    "display(builtinDisplay, \"text/html\")"
   ]
  },
  {
   "cell_type": "code",
   "execution_count": null,
   "metadata": {},
   "outputs": [],
   "source": [
    "var greenLed = plate.GetOrCreateDevice<Led>(DigitalPort.D0);\n",
    "greenLed.DisplayProperties.Add(new NamedCssColor(\"green\"));"
   ]
  },
  {
   "cell_type": "code",
   "execution_count": null,
   "metadata": {},
   "outputs": [],
   "source": [
    "var amberLed = plate.GetOrCreateDevice<Led>(DigitalPort.D1);\n",
    "amberLed.DisplayProperties.Add(new NamedCssColor(\"gold\"));"
   ]
  },
  {
   "cell_type": "code",
   "execution_count": null,
   "metadata": {},
   "outputs": [],
   "source": [
    "var redLed = plate.GetOrCreateDevice<Led>(DigitalPort.D2);\n",
    "redLed.DisplayProperties.Add(new NamedCssColor(\"red\"));"
   ]
  },
  {
   "cell_type": "code",
   "execution_count": null,
   "metadata": {},
   "outputs": [],
   "source": [
    "greenLed.Off();\n",
    "amberLed.Off();\n",
    "redLed.Off();"
   ]
  },
  {
   "cell_type": "code",
   "execution_count": null,
   "metadata": {},
   "outputs": [],
   "source": [
    "display(plate, JsonFormatter.MimeType);"
   ]
  },
  {
   "cell_type": "code",
   "execution_count": null,
   "metadata": {},
   "outputs": [],
   "source": [
    "plate"
   ]
  },
  {
   "cell_type": "code",
   "execution_count": null,
   "metadata": {},
   "outputs": [],
   "source": [
    "var pot = plate.GetOrCreateDevice<Potentiometer>(AnaloguePort.A0);"
   ]
  },
  {
   "cell_type": "code",
   "execution_count": null,
   "metadata": {},
   "outputs": [],
   "source": [
    "pot"
   ]
  },
  {
   "cell_type": "code",
   "execution_count": null,
   "metadata": {},
   "outputs": [],
   "source": [
    "plate"
   ]
  },
  {
   "cell_type": "code",
   "execution_count": null,
   "metadata": {},
   "outputs": [],
   "source": [
    "greenLed.On()"
   ]
  },
  {
   "cell_type": "code",
   "execution_count": null,
   "metadata": {},
   "outputs": [],
   "source": [
    "amberLed.On()"
   ]
  },
  {
   "cell_type": "code",
   "execution_count": null,
   "metadata": {},
   "outputs": [],
   "source": [
    "redLed.On()"
   ]
  },
  {
   "cell_type": "code",
   "execution_count": null,
   "metadata": {},
   "outputs": [],
   "source": [
    "var ultraSound = plate.GetOrCreateDevice<UltrasonicSensor>(DigitalPort.D3);"
   ]
  },
  {
   "cell_type": "code",
   "execution_count": null,
   "metadata": {},
   "outputs": [],
   "source": [
    "ultraSound"
   ]
  },
  {
   "cell_type": "code",
   "execution_count": null,
   "metadata": {},
   "outputs": [],
   "source": [
    "plate"
   ]
  },
  {
   "cell_type": "code",
   "execution_count": null,
   "metadata": {},
   "outputs": [],
   "source": [
    "var distances = new List<double>(){0};\n",
    "\n",
    "async Task readDistance(int count = 10){   \n",
    "    for (var i = 0; i < count; i++){        \n",
    "        if(distances.Count > 5){\n",
    "            distances.RemoveAt(0);\n",
    "        }\n",
    "        distances.Add(ultraSound.Distance.Value);\n",
    "        await Task.Delay(500);\n",
    "    }\n",
    "}"
   ]
  },
  {
   "cell_type": "code",
   "execution_count": null,
   "metadata": {},
   "outputs": [],
   "source": [
    "#!js \n",
    "\n",
    "if (typeof (notebookScope.interval) !== 'undefined') {\n",
    "    clearInterval(notebookScope.interval);\n",
    "}        \n",
    "\n",
    "notebookScope.plot = (sgvSelector, variableName) => {   \n",
    "    let dtree_require = require.config({\n",
    "        paths: {\n",
    "            d3: \"https://d3js.org/d3.v5.min\"\n",
    "        }\n",
    "    });\n",
    "    dtree_require([\"d3\"], function (d3) {       \n",
    "        let svg = d3.\n",
    "            select(sgvSelector);\n",
    "        svg.selectAll(\"defs\").remove();\n",
    "        svg.selectAll(\"g\").remove();\n",
    "\n",
    "        let defs = svg.append(\"defs\");\n",
    "\n",
    "        let filter = defs.append(\"filter\").attr(\"id\", \"gooeyCodeFilter\");\n",
    "\n",
    "        filter.append(\"feGaussianBlur\")\n",
    "            .attr(\"in\", \"SourceGraphic\")\n",
    "            .attr(\"stdDeviation\", \"10\")\n",
    "            .attr(\"color-interpolation-filters\", \"sRGB\")\n",
    "            .attr(\"result\", \"blur\");\n",
    "\n",
    "        filter.append(\"feColorMatrix\")\n",
    "            .attr(\"in\", \"blur\")\n",
    "            .attr(\"mode\", \"matrix\")\n",
    "            .attr(\"values\", \"1 0 0 0 0  0 1 0 0 0  0 0 1 0 0  0 0 0 19 -9\")\n",
    "            .attr(\"result\", \"gooey\");\n",
    "\n",
    "        let container = d3\n",
    "            .select(sgvSelector)\n",
    "            .append(\"g\")\n",
    "            .style(\"filter\", \"url(#gooeyCodeFilter)\");\n",
    "\n",
    "        updateD3Rendering = () => interactive.csharp.getVariable(variableName)\n",
    "            .then(data => {\n",
    "                container\n",
    "                    .selectAll(\".points\")\n",
    "                    .data(data, (d, i) => i)\n",
    "                    .join(\n",
    "                        enter => enter.append(\"circle\")\n",
    "                            .attr(\"class\", \"points\")\n",
    "                            .attr(\"cy\", 80)\n",
    "                            .attr(\"cx\", (d, i) => ((i + 1) * 50))\n",
    "                            .transition()\n",
    "                            .duration(2000)\n",
    "                            .style(\"fill\", d => d3.interpolateTurbo(1 - (d / 50)))\n",
    "                            .ease(d3.easeElasticOut.period(1.00))\n",
    "                            .attr(\"r\", d => Math.max(0, d)),\n",
    "                        update => update\n",
    "                            .transition()\n",
    "                            .duration(2000)                            \n",
    "                            .style(\"fill\", d => d3.interpolateTurbo(1 - (d / 50)))\n",
    "                            .attr(\"r\", d => Math.max(0, d)),\n",
    "                        exit => exit\n",
    "                            .transition()\n",
    "                            .duration(1000)                            \n",
    "                            .attr(\"r\", 0 )\n",
    "                            .remove());\n",
    "            });\n",
    "        notebookScope.interval = setInterval(() => updateD3Rendering(), 1000);\n",
    "    });\n",
    "}"
   ]
  },
  {
   "cell_type": "code",
   "execution_count": null,
   "metadata": {},
   "outputs": [],
   "source": [
    "#!html\n",
    "<svg id=\"dataPlot1\" width=\"100%\"></svg>\n",
    "\n",
    "#!js\n",
    "notebookScope.plot(\"svg#dataPlot1\", \"distances\");"
   ]
  },
  {
   "cell_type": "code",
   "execution_count": null,
   "metadata": {},
   "outputs": [],
   "source": [
    "await readDistance(20);"
   ]
  },
  {
   "cell_type": "code",
   "execution_count": null,
   "metadata": {},
   "outputs": [],
   "source": [
    "distances"
   ]
  }
 ],
 "metadata": {
  "kernelspec": {
   "display_name": ".NET (C#)",
   "language": "C#",
   "name": ".net-csharp"
  },
  "language_info": {
   "file_extension": ".cs",
   "mimetype": "text/x-csharp",
   "name": "C#",
   "pygments_lexer": "csharp",
   "version": "8.0"
  }
 },
 "nbformat": 4,
 "nbformat_minor": 4
}
